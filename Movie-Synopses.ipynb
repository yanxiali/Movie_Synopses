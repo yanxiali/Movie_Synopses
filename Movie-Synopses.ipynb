{
 "cells": [
  {
   "cell_type": "markdown",
   "metadata": {},
   "source": [
    "# Document Clustering and Topic Modeling"
   ]
  },
  {
   "cell_type": "markdown",
   "metadata": {},
   "source": [
    "In this project, I use unsupervised learning models to cluster unlabeled documents into different groups, visualize the results and identify their latent topics/structures."
   ]
  },
  {
   "cell_type": "markdown",
   "metadata": {},
   "source": [
    "## Contents"
   ]
  },
  {
   "cell_type": "markdown",
   "metadata": {},
   "source": [
    "<ul>\n",
    "<li>[Part 1: Load Data](#Part-1:-Load-Data)\n",
    "<li>[Part 2: Tokenizing and Stemming](#Part-2:-Tokenizing-and-Stemming)\n",
    "<li>[Part 3: TF-IDF](#Part-3:-TF-IDF)\n",
    "<li>[Part 4: K-means clustering](#Part-4:-K-means-clustering)\n",
    "<li>[Part 5: Topic Modeling - Latent Dirichlet Allocation](#Part-5:-Topic-Modeling---Latent-Dirichlet-Allocation)\n",
    "</ul>"
   ]
  },
  {
   "cell_type": "markdown",
   "metadata": {},
   "source": [
    "# Part 1: Load Data"
   ]
  },
  {
   "cell_type": "code",
   "execution_count": 1,
   "metadata": {},
   "outputs": [],
   "source": [
    "import warnings\n",
    "warnings.filterwarnings('ignore')\n",
    "import numpy as np\n",
    "import pandas as pd\n",
    "import nltk\n",
    "import re\n",
    "import os\n",
    "\n",
    "from sklearn import decomposition\n",
    "from sklearn.feature_extraction.text import TfidfVectorizer\n",
    "import matplotlib.pyplot as plt\n",
    "import lda"
   ]
  },
  {
   "cell_type": "markdown",
   "metadata": {},
   "source": [
    "Read data from files. In summary, we have 100 titles and 100 synoposes (combined from imdb and wiki)."
   ]
  },
  {
   "cell_type": "code",
   "execution_count": 2,
   "metadata": {},
   "outputs": [],
   "source": [
    "#import three lists: titles and wikipedia synopses\n",
    "titles = open('input/title_list.txt').read().split('\\n')\n",
    "titles = titles[:100] #ensures that only the first 100 are read in\n",
    "\n",
    "#The wiki synopses and imdb synopses of each movie is seperated by the keywords \"BREAKS HERE\". \n",
    "#Each synoposes may consist of multiple paragraphs.\n",
    "synopses_wiki = open('input/synopses_list_wiki.txt').read().split('\\n BREAKS HERE')\n",
    "synopses_wiki = synopses_wiki[:100]\n",
    "\n",
    "synopses_imdb = open('input/synopses_list_imdb.txt').read().split('\\n BREAKS HERE')\n",
    "synopses_imdb = synopses_imdb[:100]\n",
    "\n",
    "#Combine imdb and wiki to get full synoposes for the top 100 movies. \n",
    "synopses = []\n",
    "for i in range(len(synopses_wiki)):\n",
    "    item = synopses_wiki[i] + synopses_imdb[i]\n",
    "    synopses.append(item)\n",
    "    \n",
    "#Because these synopses have already been ordered in popularity order, \n",
    "#just need to generate a list of ordered numbers for future usage.\n",
    "ranks = range(len(titles))"
   ]
  },
  {
   "cell_type": "markdown",
   "metadata": {},
   "source": [
    "# Part 2: Tokenizing and Stemming"
   ]
  },
  {
   "cell_type": "markdown",
   "metadata": {
    "collapsed": true
   },
   "source": [
    "Load stopwords and stemmer function from NLTK library.\n",
    "Stop words are words like \"a\", \"the\", or \"in\" which don't convey significant meaning.\n",
    "Stemming is the process of breaking a word down into its root."
   ]
  },
  {
   "cell_type": "code",
   "execution_count": 3,
   "metadata": {},
   "outputs": [
    {
     "name": "stdout",
     "output_type": "stream",
     "text": [
      "We use 153 stop-words from nltk library.\n",
      "['i', 'me', 'my', 'myself', 'we', 'our', 'ours', 'ourselves', 'you', 'your']\n"
     ]
    }
   ],
   "source": [
    "# Use nltk's English stopwords.\n",
    "stopwords = nltk.corpus.stopwords.words('english')\n",
    "\n",
    "print(\"We use \" + str(len(stopwords)) + \" stop-words from nltk library.\")\n",
    "print(stopwords[:10])"
   ]
  },
  {
   "cell_type": "code",
   "execution_count": 4,
   "metadata": {},
   "outputs": [],
   "source": [
    "from nltk.stem.snowball import SnowballStemmer\n",
    "stemmer = SnowballStemmer(\"english\")\n",
    "\n",
    "def tokenization_and_stemming(text):\n",
    "    tokens = [word.lower() for sent in nltk.sent_tokenize(text) for word in nltk.word_tokenize(sent) if word not in stopwords]\n",
    "#     tokens=[]\n",
    "#     for sent in nltk.sent_tokenize(text):\n",
    "#         for word in nltk.word_tokenize(sent):\n",
    "#             if word not in stopwords:\n",
    "#                 tokens.append(word);   \n",
    "    filtered_tokens = []\n",
    "    # filter out any tokens not containing letters (e.g., numeric tokens, raw punctuation)\n",
    "    for token in tokens:\n",
    "        if re.search('[a-zA-Z]', token):\n",
    "            filtered_tokens.append(token)\n",
    "    stems = [stemmer.stem(t) for t in filtered_tokens]\n",
    "    return stems\n",
    "\n",
    "def tokenization(text):\n",
    "    tokens = [word.lower() for sent in nltk.sent_tokenize(text) for word in nltk.word_tokenize(sent) if word not in stopwords]\n",
    "    filtered_tokens = []\n",
    "    for token in tokens:\n",
    "        if re.search('[a-zA-Z]', token):\n",
    "            filtered_tokens.append(token)\n",
    "    return filtered_tokens"
   ]
  },
  {
   "cell_type": "code",
   "execution_count": 5,
   "metadata": {},
   "outputs": [
    {
     "data": {
      "text/plain": [
       "['look', 'father', \"'s\", 'arm']"
      ]
     },
     "execution_count": 5,
     "metadata": {},
     "output_type": "execute_result"
    }
   ],
   "source": [
    "tokenization_and_stemming(\"she looked at her father's arm.\")"
   ]
  },
  {
   "cell_type": "markdown",
   "metadata": {},
   "source": [
    "Use the defined functions to analyze (i.e. tokenize, stem) our synoposes."
   ]
  },
  {
   "cell_type": "code",
   "execution_count": 6,
   "metadata": {},
   "outputs": [],
   "source": [
    "docs_stemmed = []\n",
    "docs_tokenized = []\n",
    "for i in synopses:\n",
    "    tokenized_and_stemmed_results = tokenization_and_stemming(i)\n",
    "    docs_stemmed.extend(tokenized_and_stemmed_results)\n",
    "    \n",
    "    tokenized_results = tokenization(i)\n",
    "    docs_tokenized.extend(tokenized_results)"
   ]
  },
  {
   "cell_type": "markdown",
   "metadata": {},
   "source": [
    "Create a mapping from stemmed words to original tokenized words for result interpretation."
   ]
  },
  {
   "cell_type": "code",
   "execution_count": 7,
   "metadata": {},
   "outputs": [
    {
     "name": "stdout",
     "output_type": "stream",
     "text": [
      "angeles\n"
     ]
    }
   ],
   "source": [
    "vocab_frame_dict = {docs_stemmed[x]:docs_tokenized[x] for x in range(len(docs_stemmed))}\n",
    "print(vocab_frame_dict['angel'])"
   ]
  },
  {
   "cell_type": "markdown",
   "metadata": {
    "collapsed": true
   },
   "source": [
    "# Part 3: TF-IDF"
   ]
  },
  {
   "cell_type": "code",
   "execution_count": 8,
   "metadata": {},
   "outputs": [
    {
     "name": "stdout",
     "output_type": "stream",
     "text": [
      "In total, there are 100 synoposes and 538 terms.\n"
     ]
    }
   ],
   "source": [
    "#define vectorizer parameters\n",
    "tfidf_model = TfidfVectorizer(max_df=0.8, max_features=200000,\n",
    "                                 min_df=0.2, stop_words='english',\n",
    "                                 use_idf=True, tokenizer=tokenization_and_stemming, ngram_range=(1,1))\n",
    "\n",
    "tfidf_matrix = tfidf_model.fit_transform(synopses) #fit the vectorizer to synopses\n",
    "\n",
    "print(\"In total, there are \" + str(tfidf_matrix.shape[0]) + \\\n",
    "      \" synoposes and \" + str(tfidf_matrix.shape[1]) + \" terms.\")"
   ]
  },
  {
   "cell_type": "code",
   "execution_count": 9,
   "metadata": {},
   "outputs": [
    {
     "data": {
      "text/plain": [
       "{'analyzer': 'word',\n",
       " 'binary': False,\n",
       " 'decode_error': 'strict',\n",
       " 'dtype': numpy.int64,\n",
       " 'encoding': 'utf-8',\n",
       " 'input': 'content',\n",
       " 'lowercase': True,\n",
       " 'max_df': 0.8,\n",
       " 'max_features': 200000,\n",
       " 'min_df': 0.2,\n",
       " 'ngram_range': (1, 1),\n",
       " 'norm': 'l2',\n",
       " 'preprocessor': None,\n",
       " 'smooth_idf': True,\n",
       " 'stop_words': 'english',\n",
       " 'strip_accents': None,\n",
       " 'sublinear_tf': False,\n",
       " 'token_pattern': '(?u)\\\\b\\\\w\\\\w+\\\\b',\n",
       " 'tokenizer': <function __main__.tokenization_and_stemming(text)>,\n",
       " 'use_idf': True,\n",
       " 'vocabulary': None}"
      ]
     },
     "execution_count": 9,
     "metadata": {},
     "output_type": "execute_result"
    }
   ],
   "source": [
    "tfidf_model.get_params()"
   ]
  },
  {
   "cell_type": "markdown",
   "metadata": {},
   "source": [
    "Save the terms identified by TF-IDF."
   ]
  },
  {
   "cell_type": "code",
   "execution_count": 10,
   "metadata": {},
   "outputs": [],
   "source": [
    "tf_selected_words = tfidf_model.get_feature_names()"
   ]
  },
  {
   "cell_type": "markdown",
   "metadata": {},
   "source": [
    "# Calculate Document Similarity"
   ]
  },
  {
   "cell_type": "code",
   "execution_count": 11,
   "metadata": {
    "scrolled": true
   },
   "outputs": [
    {
     "name": "stdout",
     "output_type": "stream",
     "text": [
      "[[1.         0.1996283  0.23342595 ... 0.3581728  0.3277855  0.17714484]\n",
      " [0.1996283  1.         0.26626879 ... 0.26910321 0.22856581 0.10870124]\n",
      " [0.23342595 0.26626879 1.         ... 0.27738654 0.24669308 0.12805055]\n",
      " ...\n",
      " [0.3581728  0.26910321 0.27738654 ... 1.         0.55040973 0.08151334]\n",
      " [0.3277855  0.22856581 0.24669308 ... 0.55040973 1.         0.13005234]\n",
      " [0.17714484 0.10870124 0.12805055 ... 0.08151334 0.13005234 1.        ]]\n"
     ]
    }
   ],
   "source": [
    "from sklearn.metrics.pairwise import cosine_similarity\n",
    "cos_matrix = cosine_similarity(tfidf_matrix)\n",
    "print(cos_matrix)"
   ]
  },
  {
   "cell_type": "markdown",
   "metadata": {},
   "source": [
    "# Part 4: K-means clustering"
   ]
  },
  {
   "cell_type": "code",
   "execution_count": 12,
   "metadata": {
    "scrolled": true
   },
   "outputs": [],
   "source": [
    "from sklearn.cluster import KMeans\n",
    "\n",
    "num_clusters = 5\n",
    "km = KMeans(n_clusters=num_clusters)\n",
    "km.fit(tfidf_matrix)\n",
    "clusters = km.labels_.tolist()"
   ]
  },
  {
   "cell_type": "markdown",
   "metadata": {},
   "source": [
    "## 4.1. Analyze K-means Result"
   ]
  },
  {
   "cell_type": "code",
   "execution_count": 13,
   "metadata": {},
   "outputs": [],
   "source": [
    "# create DataFrame films from all of the input files.\n",
    "films = { 'title': titles, 'rank': ranks, 'synopsis': synopses, 'cluster': clusters}\n",
    "frame = pd.DataFrame(films, index = [clusters] , columns = ['rank', 'title', 'cluster'])"
   ]
  },
  {
   "cell_type": "code",
   "execution_count": 14,
   "metadata": {},
   "outputs": [
    {
     "data": {
      "text/html": [
       "<div>\n",
       "<style scoped>\n",
       "    .dataframe tbody tr th:only-of-type {\n",
       "        vertical-align: middle;\n",
       "    }\n",
       "\n",
       "    .dataframe tbody tr th {\n",
       "        vertical-align: top;\n",
       "    }\n",
       "\n",
       "    .dataframe thead th {\n",
       "        text-align: right;\n",
       "    }\n",
       "</style>\n",
       "<table border=\"1\" class=\"dataframe\">\n",
       "  <thead>\n",
       "    <tr style=\"text-align: right;\">\n",
       "      <th></th>\n",
       "      <th>rank</th>\n",
       "      <th>title</th>\n",
       "      <th>cluster</th>\n",
       "    </tr>\n",
       "  </thead>\n",
       "  <tbody>\n",
       "    <tr>\n",
       "      <th>2</th>\n",
       "      <td>0</td>\n",
       "      <td>The Godfather</td>\n",
       "      <td>2</td>\n",
       "    </tr>\n",
       "    <tr>\n",
       "      <th>3</th>\n",
       "      <td>1</td>\n",
       "      <td>The Shawshank Redemption</td>\n",
       "      <td>3</td>\n",
       "    </tr>\n",
       "    <tr>\n",
       "      <th>2</th>\n",
       "      <td>2</td>\n",
       "      <td>Schindler's List</td>\n",
       "      <td>2</td>\n",
       "    </tr>\n",
       "    <tr>\n",
       "      <th>1</th>\n",
       "      <td>3</td>\n",
       "      <td>Raging Bull</td>\n",
       "      <td>1</td>\n",
       "    </tr>\n",
       "    <tr>\n",
       "      <th>1</th>\n",
       "      <td>4</td>\n",
       "      <td>Casablanca</td>\n",
       "      <td>1</td>\n",
       "    </tr>\n",
       "    <tr>\n",
       "      <th>1</th>\n",
       "      <td>5</td>\n",
       "      <td>One Flew Over the Cuckoo's Nest</td>\n",
       "      <td>1</td>\n",
       "    </tr>\n",
       "    <tr>\n",
       "      <th>2</th>\n",
       "      <td>6</td>\n",
       "      <td>Gone with the Wind</td>\n",
       "      <td>2</td>\n",
       "    </tr>\n",
       "    <tr>\n",
       "      <th>2</th>\n",
       "      <td>7</td>\n",
       "      <td>Citizen Kane</td>\n",
       "      <td>2</td>\n",
       "    </tr>\n",
       "    <tr>\n",
       "      <th>1</th>\n",
       "      <td>8</td>\n",
       "      <td>The Wizard of Oz</td>\n",
       "      <td>1</td>\n",
       "    </tr>\n",
       "    <tr>\n",
       "      <th>3</th>\n",
       "      <td>9</td>\n",
       "      <td>Titanic</td>\n",
       "      <td>3</td>\n",
       "    </tr>\n",
       "  </tbody>\n",
       "</table>\n",
       "</div>"
      ],
      "text/plain": [
       "   rank                            title  cluster\n",
       "2     0                    The Godfather        2\n",
       "3     1         The Shawshank Redemption        3\n",
       "2     2                 Schindler's List        2\n",
       "1     3                      Raging Bull        1\n",
       "1     4                       Casablanca        1\n",
       "1     5  One Flew Over the Cuckoo's Nest        1\n",
       "2     6               Gone with the Wind        2\n",
       "2     7                     Citizen Kane        2\n",
       "1     8                 The Wizard of Oz        1\n",
       "3     9                          Titanic        3"
      ]
     },
     "execution_count": 14,
     "metadata": {},
     "output_type": "execute_result"
    }
   ],
   "source": [
    "frame.head(10)"
   ]
  },
  {
   "cell_type": "code",
   "execution_count": 15,
   "metadata": {},
   "outputs": [
    {
     "name": "stdout",
     "output_type": "stream",
     "text": [
      "Number of films included in each cluster:\n"
     ]
    },
    {
     "data": {
      "text/html": [
       "<div>\n",
       "<style scoped>\n",
       "    .dataframe tbody tr th:only-of-type {\n",
       "        vertical-align: middle;\n",
       "    }\n",
       "\n",
       "    .dataframe tbody tr th {\n",
       "        vertical-align: top;\n",
       "    }\n",
       "\n",
       "    .dataframe thead th {\n",
       "        text-align: right;\n",
       "    }\n",
       "</style>\n",
       "<table border=\"1\" class=\"dataframe\">\n",
       "  <thead>\n",
       "    <tr style=\"text-align: right;\">\n",
       "      <th></th>\n",
       "      <th>cluster</th>\n",
       "    </tr>\n",
       "  </thead>\n",
       "  <tbody>\n",
       "    <tr>\n",
       "      <th>1</th>\n",
       "      <td>33</td>\n",
       "    </tr>\n",
       "    <tr>\n",
       "      <th>3</th>\n",
       "      <td>27</td>\n",
       "    </tr>\n",
       "    <tr>\n",
       "      <th>2</th>\n",
       "      <td>20</td>\n",
       "    </tr>\n",
       "    <tr>\n",
       "      <th>4</th>\n",
       "      <td>14</td>\n",
       "    </tr>\n",
       "    <tr>\n",
       "      <th>0</th>\n",
       "      <td>6</td>\n",
       "    </tr>\n",
       "  </tbody>\n",
       "</table>\n",
       "</div>"
      ],
      "text/plain": [
       "   cluster\n",
       "1       33\n",
       "3       27\n",
       "2       20\n",
       "4       14\n",
       "0        6"
      ]
     },
     "execution_count": 15,
     "metadata": {},
     "output_type": "execute_result"
    }
   ],
   "source": [
    "print(\"Number of films included in each cluster:\")\n",
    "frame['cluster'].value_counts().to_frame()"
   ]
  },
  {
   "cell_type": "code",
   "execution_count": 16,
   "metadata": {},
   "outputs": [
    {
     "name": "stdout",
     "output_type": "stream",
     "text": [
      "Average rank (1 to 100) per cluster:\n"
     ]
    },
    {
     "data": {
      "text/html": [
       "<div>\n",
       "<style scoped>\n",
       "    .dataframe tbody tr th:only-of-type {\n",
       "        vertical-align: middle;\n",
       "    }\n",
       "\n",
       "    .dataframe tbody tr th {\n",
       "        vertical-align: top;\n",
       "    }\n",
       "\n",
       "    .dataframe thead th {\n",
       "        text-align: right;\n",
       "    }\n",
       "</style>\n",
       "<table border=\"1\" class=\"dataframe\">\n",
       "  <thead>\n",
       "    <tr style=\"text-align: right;\">\n",
       "      <th></th>\n",
       "      <th>rank</th>\n",
       "    </tr>\n",
       "    <tr>\n",
       "      <th>cluster</th>\n",
       "      <th></th>\n",
       "    </tr>\n",
       "  </thead>\n",
       "  <tbody>\n",
       "    <tr>\n",
       "      <th>0</th>\n",
       "      <td>52.833333</td>\n",
       "    </tr>\n",
       "    <tr>\n",
       "      <th>1</th>\n",
       "      <td>48.060606</td>\n",
       "    </tr>\n",
       "    <tr>\n",
       "      <th>2</th>\n",
       "      <td>51.700000</td>\n",
       "    </tr>\n",
       "    <tr>\n",
       "      <th>3</th>\n",
       "      <td>53.925926</td>\n",
       "    </tr>\n",
       "    <tr>\n",
       "      <th>4</th>\n",
       "      <td>39.785714</td>\n",
       "    </tr>\n",
       "  </tbody>\n",
       "</table>\n",
       "</div>"
      ],
      "text/plain": [
       "              rank\n",
       "cluster           \n",
       "0        52.833333\n",
       "1        48.060606\n",
       "2        51.700000\n",
       "3        53.925926\n",
       "4        39.785714"
      ]
     },
     "execution_count": 16,
     "metadata": {},
     "output_type": "execute_result"
    }
   ],
   "source": [
    "grouped = frame['rank'].groupby(frame['cluster'])\n",
    "print(\"Average rank (1 to 100) per cluster:\")\n",
    "grouped.mean().to_frame()"
   ]
  },
  {
   "cell_type": "code",
   "execution_count": 17,
   "metadata": {
    "scrolled": false
   },
   "outputs": [
    {
     "name": "stdout",
     "output_type": "stream",
     "text": [
      "<Document clustering result by K-means>\n",
      "Cluster 0 words:\n",
      "george,\n",
      "marries,\n",
      "family,\n",
      "woman,\n",
      "friend,\n",
      "john,\n",
      "Cluster 0 titles (6 movies): \n",
      "It's a Wonderful Life, The Philadelphia Story, An American in Paris, The King's Speech, A Place in the Sun, Tootsie\n",
      "Cluster 1 words:\n",
      "killing,\n",
      "say,\n",
      "friend,\n",
      "escape,\n",
      "n't,\n",
      "town,\n",
      "Cluster 1 titles (33 movies): \n",
      "Raging Bull, Casablanca, One Flew Over the Cuckoo's Nest, The Wizard of Oz, The Godfather: Part II, On the Waterfront, West Side Story, Star Wars, 2001: A Space Odyssey, The Silence of the Lambs, Chinatown, 12 Angry Men, Gandhi, Unforgiven, Raiders of the Lost Ark, Rocky, To Kill a Mockingbird, Jaws, The Good, the Bad and the Ugly, Butch Cassidy and the Sundance Kid, High Noon, The Deer Hunter, Mr. Smith Goes to Washington, Annie Hall, Shane, Nashville, Stagecoach, The Maltese Falcon, Taxi Driver, Wuthering Heights, Double Indemnity, Rear Window, The Third Man\n",
      "Cluster 2 words:\n",
      "family,\n",
      "war,\n",
      "captain,\n",
      "father,\n",
      "marries,\n",
      "marriages,\n",
      "Cluster 2 titles (20 movies): \n",
      "The Godfather, Schindler's List, Gone with the Wind, Citizen Kane, The Sound of Music, Amadeus, A Streetcar Named Desire, The Best Years of Our Lives, Doctor Zhivago, The Pianist, City Lights, It Happened One Night, Out of Africa, Good Will Hunting, Terms of Endearment, Giant, Network, The African Queen, Mutiny on the Bounty, Yankee Doodle Dandy\n",
      "Cluster 3 words:\n",
      "car,\n",
      "mother,\n",
      "police,\n",
      "john,\n",
      "house,\n",
      "prison,\n",
      "Cluster 3 titles (27 movies): \n",
      "The Shawshank Redemption, Titanic, Psycho, Sunset Blvd., Vertigo, Forrest Gump, E.T. the Extra-Terrestrial, Singin' in the Rain, Some Like It Hot, My Fair Lady, Ben-Hur, The Apartment, Goodfellas, The Exorcist, The French Connection, Midnight Cowboy, Rain Man, Fargo, The Grapes of Wrath, The Green Mile, Close Encounters of the Third Kind, The Graduate, American Graffiti, Pulp Fiction, A Clockwork Orange, Rebel Without a Cause, North by Northwest\n",
      "Cluster 4 words:\n",
      "soldiers,\n",
      "killing,\n",
      "army,\n",
      "general,\n",
      "commanded,\n",
      "battle,\n",
      "Cluster 4 titles (14 movies): \n",
      "Lawrence of Arabia, The Bridge on the River Kwai, Dr. Strangelove or: How I Learned to Stop Worrying and Love the Bomb, Apocalypse Now, The Lord of the Rings: The Return of the King, Gladiator, From Here to Eternity, Saving Private Ryan, Patton, Braveheart, The Treasure of the Sierra Madre, Platoon, Dances with Wolves, All Quiet on the Western Front\n"
     ]
    }
   ],
   "source": [
    "print(\"<Document clustering result by K-means>\")\n",
    "\n",
    "#km.cluster_centers_ denotes the importances of each items in centroid.\n",
    "#We need to sort it in decreasing-order and get the top k items.\n",
    "order_centroids = km.cluster_centers_.argsort()[:, ::-1] \n",
    "\n",
    "Cluster_keywords_summary = {}\n",
    "for i in range(num_clusters):\n",
    "    print(\"Cluster \" + str(i) + \" words:\" ,)\n",
    "    Cluster_keywords_summary[i] = []\n",
    "    for ind in order_centroids[i, :6]: #replace 6 with n words per cluster\n",
    "        Cluster_keywords_summary[i].append(vocab_frame_dict[tf_selected_words[ind]])\n",
    "        print(vocab_frame_dict[tf_selected_words[ind]] + \",\")\n",
    "    print\n",
    "    #Here ix means index, which is the clusterID of each item.\n",
    "    #Without tolist, the values result from dataframe is <type 'numpy.ndarray'>\n",
    "    cluster_movies = frame.ix[i]['title'].values.tolist()\n",
    "    print(\"Cluster \" + str(i) + \" titles (\" + str(len(cluster_movies)) + \" movies): \" )\n",
    "    print(\", \".join(cluster_movies))"
   ]
  },
  {
   "cell_type": "markdown",
   "metadata": {},
   "source": [
    "## 4.2. Plot K-means Result"
   ]
  },
  {
   "cell_type": "code",
   "execution_count": 18,
   "metadata": {},
   "outputs": [],
   "source": [
    "pca = decomposition.PCA(n_components=2)\n",
    "tfidf_matrix_np=tfidf_matrix.toarray()\n",
    "pca.fit(tfidf_matrix_np)\n",
    "X = pca.transform(tfidf_matrix_np)\n",
    "\n",
    "xs, ys = X[:, 0], X[:, 1]\n",
    "\n",
    "#set up colors per clusters using a dict\n",
    "cluster_colors = {0: '#1b9e77', 1: '#d95f02', 2: '#7570b3', 3: '#e7298a', 4: '#66a61e'}\n",
    "#set up cluster names using a dict\n",
    "cluster_names = {}\n",
    "for i in range(num_clusters):\n",
    "    cluster_names[i] = \", \".join(Cluster_keywords_summary[i])"
   ]
  },
  {
   "cell_type": "code",
   "execution_count": 19,
   "metadata": {
    "scrolled": false
   },
   "outputs": [
    {
     "data": {
      "image/png": "[encoded data removed]",
      "text/plain": [
       "<Figure size 1152x432 with 1 Axes>"
      ]
     },
     "metadata": {},
     "output_type": "display_data"
    }
   ],
   "source": [
    "%matplotlib inline \n",
    "\n",
    "#create data frame with PCA cluster results\n",
    "df = pd.DataFrame(dict(x=xs, y=ys, label=clusters, title=titles)) \n",
    "groups = df.groupby(clusters)\n",
    "\n",
    "# set up plot\n",
    "fig, ax = plt.subplots(figsize=(16, 6))\n",
    "#Set color for each cluster/group\n",
    "for name, group in groups:\n",
    "    ax.plot(group.x, group.y, marker='o', linestyle='', ms=12, \n",
    "            label=cluster_names[name], color=cluster_colors[name], \n",
    "            mec='none')\n",
    "\n",
    "ax.legend(numpoints=1,loc=4)  #show legend with only 1 point, position is right bottom.\n",
    "\n",
    "plt.show() #show the plot"
   ]
  },
  {
   "cell_type": "code",
   "execution_count": 20,
   "metadata": {},
   "outputs": [],
   "source": [
    "plt.close()"
   ]
  },
  {
   "cell_type": "markdown",
   "metadata": {},
   "source": [
    "# Part 5: Topic Modeling - Latent Dirichlet Allocation"
   ]
  },
  {
   "cell_type": "code",
   "execution_count": null,
   "metadata": {},
   "outputs": [],
   "source": [
    "#Now use synopses to build a 100*551 matrix (terms)\n",
    "terms_dict = {tf_selected_words[x]:x for x in range(len(tf_selected_words))}\n",
    "\n",
    "feature_matrix_synopses_tf = []\n",
    "for i in synopses:\n",
    "    current_doc_stats = [0] * len(tf_selected_words)\n",
    "    allwords_stemmed = tokenization_and_stemming(i)\n",
    "    for get_terms in allwords_stemmed:\n",
    "        if get_terms in tf_selected_words:\n",
    "            current_doc_stats[terms_dict[get_terms]] += 1\n",
    "    current_doc_stats = np.asarray(current_doc_stats)\n",
    "    feature_matrix_synopses_tf.append(current_doc_stats)\n",
    "    \n",
    "feature_matrix_synopses_tf = np.asarray(feature_matrix_synopses_tf)"
   ]
  },
  {
   "cell_type": "code",
   "execution_count": null,
   "metadata": {},
   "outputs": [],
   "source": [
    "model = lda.LDA(n_topics=5, n_iter=500, random_state=1)"
   ]
  },
  {
   "cell_type": "markdown",
   "metadata": {},
   "source": [
    "<li> \"model.topic_word_\" saves the importance of tf_selected_words in LDA model, i.e. words similarity matrix\n",
    "<li> The shape of \"model.topic_word_\" is (n_topics,num_of_selected_words)\n",
    "<li> \"model.doc_topic_\" saves the document topic results, i.e. document topic matrix.\n",
    "<li> The shape of \"model.doc_topic_\" is (num_of_documents, n_topics)"
   ]
  },
  {
   "cell_type": "code",
   "execution_count": null,
   "metadata": {},
   "outputs": [],
   "source": [
    "model.fit(feature_matrix_synopses_tf)\n",
    "topic_word = model.topic_word_  # model.components_ also works\n",
    "n_top_words = 7\n",
    "\n",
    "topic_keywords_list = []\n",
    "for i, topic_dist in enumerate(topic_word):\n",
    "    #Here we select top(n_top_words-1)\n",
    "    lda_topic_words = np.array(tf_selected_words)[np.argsort(topic_dist)][:-n_top_words:-1] \n",
    "    for j in range(len(lda_topic_words)):\n",
    "        lda_topic_words[j] = vocab_frame_dict[lda_topic_words[j]]\n",
    "    topic_keywords_list.append(lda_topic_words.tolist())"
   ]
  },
  {
   "cell_type": "code",
   "execution_count": null,
   "metadata": {
    "scrolled": false
   },
   "outputs": [],
   "source": [
    "doc_topic = model.doc_topic_\n",
    "topic_doc_dict = {}\n",
    "\n",
    "print(\"<Document clustering result by LDA>\")\n",
    "for i in range(len(doc_topic)):\n",
    "    topicID = doc_topic[i].argmax()\n",
    "    if topicID not in topic_doc_dict:\n",
    "        topic_doc_dict[topicID] = [titles[i]]\n",
    "    else:\n",
    "        topic_doc_dict[topicID].append(titles[i])\n",
    "for i in topic_doc_dict:\n",
    "    print(\"Cluster \" + str(i) + \" words: \" + \", \".join(topic_keywords_list[i]))\n",
    "    print(\"Cluster \" + str(i) + \" titles (\" + str(len(topic_doc_dict[i])) + \" movies): \" )\n",
    "    print(', '.join(topic_doc_dict[i]))"
   ]
  },
  {
   "cell_type": "markdown",
   "metadata": {
    "collapsed": true
   },
   "source": [
    "# Appendix: K-means"
   ]
  },
  {
   "cell_type": "code",
   "execution_count": null,
   "metadata": {},
   "outputs": [],
   "source": [
    "from sklearn.datasets.samples_generator import make_blobs\n",
    "X, y = make_blobs(n_samples=300, centers=4,\n",
    "                  random_state=0, cluster_std=0.60)\n",
    "plt.scatter(X[:, 0], X[:, 1], s=50);"
   ]
  },
  {
   "cell_type": "code",
   "execution_count": null,
   "metadata": {},
   "outputs": [],
   "source": [
    "from sklearn.cluster import KMeans\n",
    "est = KMeans(4)  # 4 clusters\n",
    "est.fit(X)\n",
    "y_kmeans = est.predict(X)\n",
    "plt.scatter(X[:, 0], X[:, 1], c=y_kmeans, s=50);"
   ]
  },
  {
   "cell_type": "code",
   "execution_count": null,
   "metadata": {},
   "outputs": [],
   "source": []
  }
 ],
 "metadata": {
  "kernelspec": {
   "display_name": "Python 3",
   "language": "python",
   "name": "python3"
  },
  "language_info": {
   "codemirror_mode": {
    "name": "ipython",
    "version": 3
   },
   "file_extension": ".py",
   "mimetype": "text/x-python",
   "name": "python",
   "nbconvert_exporter": "python",
   "pygments_lexer": "ipython3",
   "version": "3.6.5"
  }
 },
 "nbformat": 4,
 "nbformat_minor": 1
}
